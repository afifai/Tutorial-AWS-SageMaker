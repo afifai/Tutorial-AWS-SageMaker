{
 "cells": [
  {
   "cell_type": "markdown",
   "id": "ed3bf731",
   "metadata": {},
   "source": [
    "![logo_jupyter.png](data:image/png;base64,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)"
   ]
  },
  {
   "cell_type": "markdown",
   "id": "9f6a7155",
   "metadata": {},
   "source": [
    "# Bangun, Latih dan Deploy Model SMS Spam\n",
    "\n",
    "Author : Afif A. Iskandar ([@afif.ai](https://youtube.com/NgodingPython))\n",
    "\n"
   ]
  },
  {
   "cell_type": "markdown",
   "id": "134939fc",
   "metadata": {},
   "source": [
    "Dalam notebook ini, Saya akan menunjukkan bagaimana menggunakan Amazon SageMaker untuk membangun, melatih dan mendeploy model ML berbasis Scikit-Learn (Naive Bayes). Informasi lebih lanjut tentang Scikit-Learn dapat ditemukan di sini https://scikit-learn.org/stable/index.html.\n",
    "\n",
    "Dalam notebook ini saya menggunakan dataset SMS Spam Bahasa Indonesia yang dapat ditemukan di https://yudiwbs.wordpress.com/2018/08/05/dataset-klasifikasi-bahasa-indonesia-sms-spam-klasifikasi-teks-dengan-scikit-learn/\n",
    "\n",
    "**Notebook ini bertujuan untuk demonstrasi, pastikan untuk melakukan pengujian yang sesuai jika Anda menggunakan kode ini untuk kasus penggunaan Anda sendiri!**"
   ]
  },
  {
   "cell_type": "code",
   "execution_count": 1,
   "id": "1b23b0dd",
   "metadata": {},
   "outputs": [],
   "source": [
    "# Import library yang dibutuhkan\n",
    "import os\n",
    "import sagemaker\n",
    "import boto3\n",
    "from sagemaker.amazon.amazon_estimator import get_image_uri \n",
    "from sagemaker.session import s3_input, Session"
   ]
  },
  {
   "cell_type": "code",
   "execution_count": 2,
   "id": "d7a85371",
   "metadata": {},
   "outputs": [
    {
     "name": "stdout",
     "output_type": "stream",
     "text": [
      "us-east-1\n"
     ]
    }
   ],
   "source": [
    "bucket_name = 'spamclassification' \n",
    "my_region = boto3.session.Session().region_name\n",
    "print(my_region)"
   ]
  },
  {
   "cell_type": "code",
   "execution_count": 3,
   "id": "b2192df6",
   "metadata": {},
   "outputs": [
    {
     "name": "stdout",
     "output_type": "stream",
     "text": [
      "S3 bucket berhasil dibuat\n"
     ]
    }
   ],
   "source": [
    "s3 = boto3.resource('s3')\n",
    "try:\n",
    "    if  my_region == 'us-east-1':\n",
    "        s3.create_bucket(Bucket=bucket_name)\n",
    "    print('S3 bucket berhasil dibuat')\n",
    "except Exception as e:\n",
    "    print('S3 error: ',e)"
   ]
  },
  {
   "cell_type": "code",
   "execution_count": 4,
   "id": "97b629e3",
   "metadata": {},
   "outputs": [
    {
     "name": "stdout",
     "output_type": "stream",
     "text": [
      "s3://spamclassification/model-spam/output\n"
     ]
    }
   ],
   "source": [
    "# definisikan path output tempat menyimpan model yang sudah ditrain\n",
    "prefix = 'model-spam'\n",
    "output_path ='s3://{}/{}/output'.format(bucket_name, prefix)\n",
    "print(output_path)"
   ]
  },
  {
   "cell_type": "markdown",
   "id": "95fb1155",
   "metadata": {},
   "source": [
    "## Persiapan Dataset\n",
    "\n",
    "Pada tahap ini, kita akan mengunduh data dari repositori Github. Setelah itu, kita akan membagi dataset menjadi data training dan data testing dengan menggunakan library scikit-learn. Setelah kita mempunyai data yang sudah terbagi, selanjutnya kita akan menyimpan kedua dataset tersebut dalam format csv dan mengunggahnya ke dalam bucket Amazon S3. Dengan begitu, data dapat disimpan dan diakses dari berbagai lokasi dengan mudah."
   ]
  },
  {
   "cell_type": "code",
   "execution_count": 5,
   "id": "8a9e65b2",
   "metadata": {},
   "outputs": [
    {
     "name": "stdout",
     "output_type": "stream",
     "text": [
      "[INFO] Sukses mendownload dataset\n",
      "[INFO] Sukses load dataset\n"
     ]
    },
    {
     "data": {
      "text/html": [
       "<div>\n",
       "<style scoped>\n",
       "    .dataframe tbody tr th:only-of-type {\n",
       "        vertical-align: middle;\n",
       "    }\n",
       "\n",
       "    .dataframe tbody tr th {\n",
       "        vertical-align: top;\n",
       "    }\n",
       "\n",
       "    .dataframe thead th {\n",
       "        text-align: right;\n",
       "    }\n",
       "</style>\n",
       "<table border=\"1\" class=\"dataframe\">\n",
       "  <thead>\n",
       "    <tr style=\"text-align: right;\">\n",
       "      <th></th>\n",
       "      <th>Teks</th>\n",
       "      <th>label</th>\n",
       "    </tr>\n",
       "  </thead>\n",
       "  <tbody>\n",
       "    <tr>\n",
       "      <th>0</th>\n",
       "      <td>[PROMO] Beli paket Flash mulai 1GB di MY TELKO...</td>\n",
       "      <td>2</td>\n",
       "    </tr>\n",
       "    <tr>\n",
       "      <th>1</th>\n",
       "      <td>2.5 GB/30 hari hanya Rp 35 Ribu Spesial buat A...</td>\n",
       "      <td>2</td>\n",
       "    </tr>\n",
       "    <tr>\n",
       "      <th>2</th>\n",
       "      <td>2016-07-08 11:47:11.Plg Yth, sisa kuota Flash ...</td>\n",
       "      <td>2</td>\n",
       "    </tr>\n",
       "    <tr>\n",
       "      <th>3</th>\n",
       "      <td>2016-08-07 11:29:47.Plg Yth, sisa kuota Flash ...</td>\n",
       "      <td>2</td>\n",
       "    </tr>\n",
       "    <tr>\n",
       "      <th>4</th>\n",
       "      <td>4.5GB/30 hari hanya Rp 55 Ribu Spesial buat an...</td>\n",
       "      <td>2</td>\n",
       "    </tr>\n",
       "  </tbody>\n",
       "</table>\n",
       "</div>"
      ],
      "text/plain": [
       "                                                Teks  label\n",
       "0  [PROMO] Beli paket Flash mulai 1GB di MY TELKO...      2\n",
       "1  2.5 GB/30 hari hanya Rp 35 Ribu Spesial buat A...      2\n",
       "2  2016-07-08 11:47:11.Plg Yth, sisa kuota Flash ...      2\n",
       "3  2016-08-07 11:29:47.Plg Yth, sisa kuota Flash ...      2\n",
       "4  4.5GB/30 hari hanya Rp 55 Ribu Spesial buat an...      2"
      ]
     },
     "execution_count": 5,
     "metadata": {},
     "output_type": "execute_result"
    }
   ],
   "source": [
    "import pandas as pd\n",
    "import urllib\n",
    "try:\n",
    "    urllib.request.urlretrieve (\"https://github.com/afifai/Tutorial-AWS-SageMaker/raw/main/dataset_sms_spam_v1.csv\", \"dataset_sms_spam_v1.csv\")\n",
    "    print('[INFO] Sukses mendownload dataset')\n",
    "except Exception as e:\n",
    "    print('Download data eror: ',e)\n",
    "\n",
    "try:\n",
    "    df = pd.read_csv('./dataset_sms_spam_v1.csv')\n",
    "    print('[INFO] Sukses load dataset')\n",
    "except Exception as e:\n",
    "    print('Load data error: ',e)\n",
    "\n",
    "df.head()"
   ]
  },
  {
   "cell_type": "code",
   "execution_count": 6,
   "id": "cb8597ab",
   "metadata": {},
   "outputs": [
    {
     "data": {
      "text/html": [
       "<div>\n",
       "<style scoped>\n",
       "    .dataframe tbody tr th:only-of-type {\n",
       "        vertical-align: middle;\n",
       "    }\n",
       "\n",
       "    .dataframe tbody tr th {\n",
       "        vertical-align: top;\n",
       "    }\n",
       "\n",
       "    .dataframe thead th {\n",
       "        text-align: right;\n",
       "    }\n",
       "</style>\n",
       "<table border=\"1\" class=\"dataframe\">\n",
       "  <thead>\n",
       "    <tr style=\"text-align: right;\">\n",
       "      <th></th>\n",
       "      <th>Teks</th>\n",
       "      <th>label</th>\n",
       "    </tr>\n",
       "  </thead>\n",
       "  <tbody>\n",
       "    <tr>\n",
       "      <th>0</th>\n",
       "      <td>[PROMO] Beli paket Flash mulai 1GB di MY TELKO...</td>\n",
       "      <td>SMS Operator</td>\n",
       "    </tr>\n",
       "    <tr>\n",
       "      <th>1</th>\n",
       "      <td>2.5 GB/30 hari hanya Rp 35 Ribu Spesial buat A...</td>\n",
       "      <td>SMS Operator</td>\n",
       "    </tr>\n",
       "    <tr>\n",
       "      <th>2</th>\n",
       "      <td>2016-07-08 11:47:11.Plg Yth, sisa kuota Flash ...</td>\n",
       "      <td>SMS Operator</td>\n",
       "    </tr>\n",
       "    <tr>\n",
       "      <th>3</th>\n",
       "      <td>2016-08-07 11:29:47.Plg Yth, sisa kuota Flash ...</td>\n",
       "      <td>SMS Operator</td>\n",
       "    </tr>\n",
       "    <tr>\n",
       "      <th>4</th>\n",
       "      <td>4.5GB/30 hari hanya Rp 55 Ribu Spesial buat an...</td>\n",
       "      <td>SMS Operator</td>\n",
       "    </tr>\n",
       "  </tbody>\n",
       "</table>\n",
       "</div>"
      ],
      "text/plain": [
       "                                                Teks         label\n",
       "0  [PROMO] Beli paket Flash mulai 1GB di MY TELKO...  SMS Operator\n",
       "1  2.5 GB/30 hari hanya Rp 35 Ribu Spesial buat A...  SMS Operator\n",
       "2  2016-07-08 11:47:11.Plg Yth, sisa kuota Flash ...  SMS Operator\n",
       "3  2016-08-07 11:29:47.Plg Yth, sisa kuota Flash ...  SMS Operator\n",
       "4  4.5GB/30 hari hanya Rp 55 Ribu Spesial buat an...  SMS Operator"
      ]
     },
     "execution_count": 6,
     "metadata": {},
     "output_type": "execute_result"
    }
   ],
   "source": [
    "# Ubah label supaya lebih deskriptif\n",
    "df.label = df.label.map({0:\"SMS Biasa\", 1:\"SMS Penipuan\", 2:\"SMS Operator\"})\n",
    "df.head()"
   ]
  },
  {
   "cell_type": "code",
   "execution_count": 7,
   "id": "da23cab5",
   "metadata": {},
   "outputs": [
    {
     "data": {
      "image/png": "[encoded data removed]",
      "text/plain": [
       "<Figure size 640x480 with 1 Axes>"
      ]
     },
     "metadata": {},
     "output_type": "display_data"
    }
   ],
   "source": [
    "# lihat distribusi kelas\n",
    "import matplotlib.pyplot as plt\n",
    "df.label.value_counts().plot(kind='bar');"
   ]
  },
  {
   "cell_type": "code",
   "execution_count": 8,
   "id": "cc722271",
   "metadata": {},
   "outputs": [],
   "source": [
    "# Split data menjadi data train dan test\n",
    "from sklearn.model_selection import train_test_split\n",
    "X_train, X_test, y_train, y_test = train_test_split(df.Teks, df.label, test_size=0.2)"
   ]
  },
  {
   "cell_type": "code",
   "execution_count": 9,
   "id": "b461f66b",
   "metadata": {},
   "outputs": [],
   "source": [
    "# Simpan data train dan test dalam csv\n",
    "\n",
    "trainX = pd.DataFrame(X_train)\n",
    "trainX['label'] = y_train\n",
    "\n",
    "testX = pd.DataFrame(X_test)\n",
    "testX['label'] = y_test\n",
    "\n",
    "trainX.to_csv(\"train.csv\",index = False)\n",
    "testX.to_csv(\"test.csv\", index = False)"
   ]
  },
  {
   "cell_type": "code",
   "execution_count": 10,
   "id": "ee5fd2f3",
   "metadata": {},
   "outputs": [],
   "source": [
    "# Upload data ke S3. SageMaker akan mengambil data dari s3\n",
    "boto3.Session().resource('s3').Bucket(bucket_name).Object(os.path.join(prefix, 'train/train.csv')).upload_file('train.csv')\n",
    "trainpath = sagemaker.inputs.TrainingInput(s3_data='s3://{}/{}/train'.format(bucket_name, prefix), content_type='csv')\n",
    "\n",
    "boto3.Session().resource('s3').Bucket(bucket_name).Object(os.path.join(prefix, 'test/test.csv')).upload_file('test.csv')\n",
    "testpath = sagemaker.inputs.TrainingInput(s3_data='s3://{}/{}/test'.format(bucket_name, prefix), content_type='csv')"
   ]
  },
  {
   "cell_type": "markdown",
   "id": "dcee105e",
   "metadata": {},
   "source": [
    "Buat script training model dari data yang telah displit diatas, lalu disimpan kedalam file `train.py`. Panduan detil dapat dilihat di https://sagemaker.readthedocs.io/en/stable/using_sklearn.html#preparing-the-scikit-learn-training-script."
   ]
  },
  {
   "cell_type": "code",
   "execution_count": 11,
   "id": "b2c2cfa5",
   "metadata": {},
   "outputs": [
    {
     "name": "stdout",
     "output_type": "stream",
     "text": [
      "Writing train.py\n"
     ]
    }
   ],
   "source": [
    "%%writefile train.py\n",
    "\n",
    "import os\n",
    "import argparse\n",
    "import joblib\n",
    "import pandas as pd\n",
    "import sklearn\n",
    "from sklearn.feature_extraction.text import CountVectorizer\n",
    "from sklearn.naive_bayes import MultinomialNB\n",
    "from sklearn.pipeline import make_pipeline\n",
    "from sklearn.metrics import classification_report\n",
    "\n",
    "def model_fn(model_dir):\n",
    "    clf = joblib.load(os.path.join(model_dir, \"model.joblib\"))\n",
    "    return clf\n",
    "\n",
    "if __name__ == \"__main__\":\n",
    "    print(\"[INFO] Ekstraksi Input Argumen\")\n",
    "    parser = argparse.ArgumentParser()\n",
    "\n",
    "    # hyperparameters sent by the client are passed as command-line arguments to the script.\n",
    "    parser.add_argument(\"--n_estimators\", type=int, default=100)\n",
    "    parser.add_argument(\"--random_state\", type=int, default=0)\n",
    "\n",
    "    # Data, model, and output directories\n",
    "    parser.add_argument(\"--model-dir\", type=str, default=os.environ.get(\"SM_MODEL_DIR\"))\n",
    "    parser.add_argument(\"--train\", type=str, default=os.environ.get(\"SM_CHANNEL_TRAIN\"))\n",
    "    parser.add_argument(\"--test\", type=str, default=os.environ.get(\"SM_CHANNEL_TEST\"))\n",
    "    parser.add_argument(\"--train-file\", type=str, default=\"train.csv\")\n",
    "    parser.add_argument(\"--test-file\", type=str, default=\"test.csv\")\n",
    "    \n",
    "    args, _ = parser.parse_known_args()\n",
    "    \n",
    "    print(\"Versi SKLEARN: \", sklearn.__version__)\n",
    "    \n",
    "    print(\"[INFO] Load Data\")\n",
    "    print()\n",
    "    train_df = pd.read_csv(os.path.join(args.train, args.train_file))\n",
    "    test_df = pd.read_csv(os.path.join(args.test, args.test_file))\n",
    "    \n",
    "    X_train, y_train = train_df['Teks'], train_df['label']\n",
    "    X_test, y_test = test_df['Teks'], test_df['label']\n",
    "    \n",
    "    print(\"[INFO] Training Model\")\n",
    "    model = make_pipeline(CountVectorizer(), MultinomialNB())\n",
    "    model.fit(X_train, y_train)\n",
    "    \n",
    "    print(\"[INFO] Menyimpan Model\")\n",
    "    model_path = os.path.join(args.model_dir, \"model.joblib\")\n",
    "    joblib.dump(model,model_path)\n",
    "    print(f\"Model disimpan di {model_path}\\n\")\n",
    "    \n",
    "    print(\"[INFO] Mengevaluasi Model\")\n",
    "    y_pred = model.predict(X_test)\n",
    "    print(\"HASIL EVALUASI\")\n",
    "    print(classification_report(y_pred, y_test))\n",
    "    "
   ]
  },
  {
   "cell_type": "code",
   "execution_count": 12,
   "id": "41f8ed77",
   "metadata": {},
   "outputs": [
    {
     "name": "stdout",
     "output_type": "stream",
     "text": [
      "[INFO] Ekstraksi Input Argumen\n",
      "Versi SKLEARN:  1.2.0\n",
      "[INFO] Load Data\n",
      "\n",
      "[INFO] Training Model\n",
      "[INFO] Menyimpan Model\n",
      "Model disimpan di ./model.joblib\n",
      "\n",
      "[INFO] Mengevaluasi Model\n",
      "HASIL EVALUASI\n",
      "              precision    recall  f1-score   support\n",
      "\n",
      "   SMS Biasa       0.92      1.00      0.96       108\n",
      "SMS Operator       0.96      0.83      0.89        60\n",
      "SMS Penipuan       0.95      0.93      0.94        61\n",
      "\n",
      "    accuracy                           0.94       229\n",
      "   macro avg       0.94      0.92      0.93       229\n",
      "weighted avg       0.94      0.94      0.94       229\n",
      "\n"
     ]
    }
   ],
   "source": [
    "# coba jalankan script untuk memastikan script berjalan dengan baik\n",
    "! python train.py --model-dir ./ \\\n",
    "                   --train ./ \\\n",
    "                   --test ./ \\"
   ]
  },
  {
   "cell_type": "markdown",
   "id": "cfa498ca",
   "metadata": {},
   "source": [
    "### Latih Model dengan SageMaker menggunakan Python SDK\n",
    "\n",
    "Pada potongan sel kode ini, kita akan menggunakan library SKLearn dari Amazon SageMaker untuk mengatur dan menjalankan pelatihan model machine learning dari script `train.py` yang sudah dibuat sebelumnya. Kita akan menentukan berbagai konfigurasi seperti jumlah instance yang akan digunakan, jenis instance, versi framework, dan nama `job` yang akan digunakan untuk identifikasi pada AWS console. Selain itu, kita juga akan menggunakan instance Spot untuk meminimalkan biaya penggunaan instance. Setelah konfigurasi selesai, kita akan menjalankan pelatihan model dengan memanggil objek SKLearn yang telah kita atur."
   ]
  },
  {
   "cell_type": "code",
   "execution_count": 13,
   "id": "62711490",
   "metadata": {},
   "outputs": [],
   "source": [
    "from sagemaker.sklearn.estimator import SKLearn\n",
    "from sagemaker import get_execution_role\n",
    "\n",
    "FRAMEWORK_VERSION = \"0.23-1\"\n",
    "\n",
    "sklearn_estimator = SKLearn(\n",
    "    entry_point=\"train.py\",\n",
    "    role=get_execution_role(),\n",
    "    instance_count=1,\n",
    "    instance_type=\"ml.c5.large\",\n",
    "  framework_version=FRAMEWORK_VERSION,\n",
    "    base_job_name=\"NB-custom-sklearn\",\n",
    "    use_spot_instances = True,\n",
    "    max_wait = 7200,\n",
    "    max_run = 3600\n",
    ")"
   ]
  },
  {
   "cell_type": "code",
   "execution_count": 14,
   "id": "875c4d79",
   "metadata": {},
   "outputs": [
    {
     "name": "stderr",
     "output_type": "stream",
     "text": [
      "INFO:sagemaker:Creating training-job with name: NB-custom-sklearn-2023-03-18-00-20-52-730\n"
     ]
    },
    {
     "name": "stdout",
     "output_type": "stream",
     "text": [
      "2023-03-18 00:20:53 Starting - Starting the training job...\n",
      "2023-03-18 00:21:08 Starting - Preparing the instances for training......\n",
      "2023-03-18 00:21:55 Downloading - Downloading input data..\u001b[34m2023-03-18 00:22:37,120 sagemaker-containers INFO     Imported framework sagemaker_sklearn_container.training\u001b[0m\n",
      "\u001b[34m2023-03-18 00:22:37,123 sagemaker-training-toolkit INFO     No GPUs detected (normal if no gpus installed)\u001b[0m\n",
      "\u001b[34m2023-03-18 00:22:37,163 sagemaker_sklearn_container.training INFO     Invoking user training script.\u001b[0m\n",
      "\u001b[34m2023-03-18 00:22:37,311 sagemaker-training-toolkit INFO     No GPUs detected (normal if no gpus installed)\u001b[0m\n",
      "\u001b[34m2023-03-18 00:22:37,321 sagemaker-training-toolkit INFO     No GPUs detected (normal if no gpus installed)\u001b[0m\n",
      "\u001b[34m2023-03-18 00:22:37,331 sagemaker-training-toolkit INFO     No GPUs detected (normal if no gpus installed)\u001b[0m\n",
      "\u001b[34m2023-03-18 00:22:37,339 sagemaker-training-toolkit INFO     Invoking user script\u001b[0m\n",
      "\u001b[34mTraining Env:\u001b[0m\n",
      "\u001b[34m{\n",
      "    \"additional_framework_parameters\": {},\n",
      "    \"channel_input_dirs\": {\n",
      "        \"test\": \"/opt/ml/input/data/test\",\n",
      "        \"train\": \"/opt/ml/input/data/train\"\n",
      "    },\n",
      "    \"current_host\": \"algo-1\",\n",
      "    \"framework_module\": \"sagemaker_sklearn_container.training:main\",\n",
      "    \"hosts\": [\n",
      "        \"algo-1\"\n",
      "    ],\n",
      "    \"hyperparameters\": {},\n",
      "    \"input_config_dir\": \"/opt/ml/input/config\",\n",
      "    \"input_data_config\": {\n",
      "        \"test\": {\n",
      "            \"ContentType\": \"csv\",\n",
      "            \"TrainingInputMode\": \"File\",\n",
      "            \"S3DistributionType\": \"FullyReplicated\",\n",
      "            \"RecordWrapperType\": \"None\"\n",
      "        },\n",
      "        \"train\": {\n",
      "            \"ContentType\": \"csv\",\n",
      "            \"TrainingInputMode\": \"File\",\n",
      "            \"S3DistributionType\": \"FullyReplicated\",\n",
      "            \"RecordWrapperType\": \"None\"\n",
      "        }\n",
      "    },\n",
      "    \"input_dir\": \"/opt/ml/input\",\n",
      "    \"is_master\": true,\n",
      "    \"job_name\": \"NB-custom-sklearn-2023-03-18-00-20-52-730\",\n",
      "    \"log_level\": 20,\n",
      "    \"master_hostname\": \"algo-1\",\n",
      "    \"model_dir\": \"/opt/ml/model\",\n",
      "    \"module_dir\": \"s3://sagemaker-us-east-1-974985730839/NB-custom-sklearn-2023-03-18-00-20-52-730/source/sourcedir.tar.gz\",\n",
      "    \"module_name\": \"train\",\n",
      "    \"network_interface_name\": \"eth0\",\n",
      "    \"num_cpus\": 4,\n",
      "    \"num_gpus\": 0,\n",
      "    \"output_data_dir\": \"/opt/ml/output/data\",\n",
      "    \"output_dir\": \"/opt/ml/output\",\n",
      "    \"output_intermediate_dir\": \"/opt/ml/output/intermediate\",\n",
      "    \"resource_config\": {\n",
      "        \"current_host\": \"algo-1\",\n",
      "        \"current_instance_type\": \"ml.c5.xlarge\",\n",
      "        \"current_group_name\": \"homogeneousCluster\",\n",
      "        \"hosts\": [\n",
      "            \"algo-1\"\n",
      "        ],\n",
      "        \"instance_groups\": [\n",
      "            {\n",
      "                \"instance_group_name\": \"homogeneousCluster\",\n",
      "                \"instance_type\": \"ml.c5.xlarge\",\n",
      "                \"hosts\": [\n",
      "                    \"algo-1\"\n",
      "                ]\n",
      "            }\n",
      "        ],\n",
      "        \"network_interface_name\": \"eth0\"\n",
      "    },\n",
      "    \"user_entry_point\": \"train.py\"\u001b[0m\n",
      "\u001b[34m}\u001b[0m\n",
      "\u001b[34mEnvironment variables:\u001b[0m\n",
      "\u001b[34mSM_HOSTS=[\"algo-1\"]\u001b[0m\n",
      "\u001b[34mSM_NETWORK_INTERFACE_NAME=eth0\u001b[0m\n",
      "\u001b[34mSM_HPS={}\u001b[0m\n",
      "\u001b[34mSM_USER_ENTRY_POINT=train.py\u001b[0m\n",
      "\u001b[34mSM_FRAMEWORK_PARAMS={}\u001b[0m\n",
      "\u001b[34mSM_RESOURCE_CONFIG={\"current_group_name\":\"homogeneousCluster\",\"current_host\":\"algo-1\",\"current_instance_type\":\"ml.c5.xlarge\",\"hosts\":[\"algo-1\"],\"instance_groups\":[{\"hosts\":[\"algo-1\"],\"instance_group_name\":\"homogeneousCluster\",\"instance_type\":\"ml.c5.xlarge\"}],\"network_interface_name\":\"eth0\"}\u001b[0m\n",
      "\u001b[34mSM_INPUT_DATA_CONFIG={\"test\":{\"ContentType\":\"csv\",\"RecordWrapperType\":\"None\",\"S3DistributionType\":\"FullyReplicated\",\"TrainingInputMode\":\"File\"},\"train\":{\"ContentType\":\"csv\",\"RecordWrapperType\":\"None\",\"S3DistributionType\":\"FullyReplicated\",\"TrainingInputMode\":\"File\"}}\u001b[0m\n",
      "\u001b[34mSM_OUTPUT_DATA_DIR=/opt/ml/output/data\u001b[0m\n",
      "\u001b[34mSM_CHANNELS=[\"test\",\"train\"]\u001b[0m\n",
      "\u001b[34mSM_CURRENT_HOST=algo-1\u001b[0m\n",
      "\u001b[34mSM_MODULE_NAME=train\u001b[0m\n",
      "\u001b[34mSM_LOG_LEVEL=20\u001b[0m\n",
      "\u001b[34mSM_FRAMEWORK_MODULE=sagemaker_sklearn_container.training:main\u001b[0m\n",
      "\u001b[34mSM_INPUT_DIR=/opt/ml/input\u001b[0m\n",
      "\u001b[34mSM_INPUT_CONFIG_DIR=/opt/ml/input/config\u001b[0m\n",
      "\u001b[34mSM_OUTPUT_DIR=/opt/ml/output\u001b[0m\n",
      "\u001b[34mSM_NUM_CPUS=4\u001b[0m\n",
      "\u001b[34mSM_NUM_GPUS=0\u001b[0m\n",
      "\u001b[34mSM_MODEL_DIR=/opt/ml/model\u001b[0m\n",
      "\u001b[34mSM_MODULE_DIR=s3://sagemaker-us-east-1-974985730839/NB-custom-sklearn-2023-03-18-00-20-52-730/source/sourcedir.tar.gz\u001b[0m\n",
      "\u001b[34mSM_TRAINING_ENV={\"additional_framework_parameters\":{},\"channel_input_dirs\":{\"test\":\"/opt/ml/input/data/test\",\"train\":\"/opt/ml/input/data/train\"},\"current_host\":\"algo-1\",\"framework_module\":\"sagemaker_sklearn_container.training:main\",\"hosts\":[\"algo-1\"],\"hyperparameters\":{},\"input_config_dir\":\"/opt/ml/input/config\",\"input_data_config\":{\"test\":{\"ContentType\":\"csv\",\"RecordWrapperType\":\"None\",\"S3DistributionType\":\"FullyReplicated\",\"TrainingInputMode\":\"File\"},\"train\":{\"ContentType\":\"csv\",\"RecordWrapperType\":\"None\",\"S3DistributionType\":\"FullyReplicated\",\"TrainingInputMode\":\"File\"}},\"input_dir\":\"/opt/ml/input\",\"is_master\":true,\"job_name\":\"NB-custom-sklearn-2023-03-18-00-20-52-730\",\"log_level\":20,\"master_hostname\":\"algo-1\",\"model_dir\":\"/opt/ml/model\",\"module_dir\":\"s3://sagemaker-us-east-1-974985730839/NB-custom-sklearn-2023-03-18-00-20-52-730/source/sourcedir.tar.gz\",\"module_name\":\"train\",\"network_interface_name\":\"eth0\",\"num_cpus\":4,\"num_gpus\":0,\"output_data_dir\":\"/opt/ml/output/data\",\"output_dir\":\"/opt/ml/output\",\"output_intermediate_dir\":\"/opt/ml/output/intermediate\",\"resource_config\":{\"current_group_name\":\"homogeneousCluster\",\"current_host\":\"algo-1\",\"current_instance_type\":\"ml.c5.xlarge\",\"hosts\":[\"algo-1\"],\"instance_groups\":[{\"hosts\":[\"algo-1\"],\"instance_group_name\":\"homogeneousCluster\",\"instance_type\":\"ml.c5.xlarge\"}],\"network_interface_name\":\"eth0\"},\"user_entry_point\":\"train.py\"}\u001b[0m\n",
      "\u001b[34mSM_USER_ARGS=[]\u001b[0m\n",
      "\u001b[34mSM_OUTPUT_INTERMEDIATE_DIR=/opt/ml/output/intermediate\u001b[0m\n",
      "\u001b[34mSM_CHANNEL_TEST=/opt/ml/input/data/test\u001b[0m\n",
      "\u001b[34mSM_CHANNEL_TRAIN=/opt/ml/input/data/train\u001b[0m\n",
      "\u001b[34mPYTHONPATH=/opt/ml/code:/miniconda3/bin:/miniconda3/lib/python37.zip:/miniconda3/lib/python3.7:/miniconda3/lib/python3.7/lib-dynload:/miniconda3/lib/python3.7/site-packages\u001b[0m\n",
      "\u001b[34mInvoking script with the following command:\u001b[0m\n",
      "\u001b[34m/miniconda3/bin/python train.py\u001b[0m\n",
      "\u001b[34m[INFO] Ekstraksi Input Argumen\u001b[0m\n",
      "\u001b[34mVersi SKLEARN:  0.23.2\u001b[0m\n",
      "\u001b[34m[INFO] Load Data\u001b[0m\n",
      "\u001b[34m[INFO] Training Model\u001b[0m\n",
      "\u001b[34m[INFO] Menyimpan Model\u001b[0m\n",
      "\u001b[34mModel disimpan di /opt/ml/model/model.joblib\u001b[0m\n",
      "\u001b[34m[INFO] Mengevaluasi Model\u001b[0m\n",
      "\u001b[34mHASIL EVALUASI\n",
      "              precision    recall  f1-score   support\n",
      "   SMS Biasa       0.92      1.00      0.96       108\u001b[0m\n",
      "\u001b[34mSMS Operator       0.96      0.83      0.89        60\u001b[0m\n",
      "\u001b[34mSMS Penipuan       0.95      0.93      0.94        61\n",
      "    accuracy                           0.94       229\n",
      "   macro avg       0.94      0.92      0.93       229\u001b[0m\n",
      "\u001b[34mweighted avg       0.94      0.94      0.94       229\u001b[0m\n",
      "\u001b[34m2023-03-18 00:22:38,179 sagemaker-containers INFO     Reporting training SUCCESS\u001b[0m\n",
      "\n",
      "2023-03-18 00:22:52 Training - Training image download completed. Training in progress.\n",
      "2023-03-18 00:22:52 Uploading - Uploading generated training model\n",
      "2023-03-18 00:22:52 Completed - Training job completed\n",
      "Training seconds: 57\n",
      "Billable seconds: 35\n",
      "Managed Spot Training savings: 38.6%\n"
     ]
    }
   ],
   "source": [
    "# latih model\n",
    "sklearn_estimator.fit({'train': trainpath,'test': testpath})"
   ]
  },
  {
   "cell_type": "markdown",
   "id": "a75df0cb",
   "metadata": {},
   "source": [
    "### Simpan Artifact Model"
   ]
  },
  {
   "cell_type": "code",
   "execution_count": 16,
   "id": "aec39003",
   "metadata": {},
   "outputs": [
    {
     "name": "stdout",
     "output_type": "stream",
     "text": [
      "\n",
      "2023-03-18 00:22:52 Starting - Preparing the instances for training\n",
      "2023-03-18 00:22:52 Downloading - Downloading input data\n",
      "2023-03-18 00:22:52 Training - Training image download completed. Training in progress.\n",
      "2023-03-18 00:22:52 Uploading - Uploading generated training model\n",
      "2023-03-18 00:22:52 Completed - Training job completed\n",
      "Model artifact persisted at s3://sagemaker-us-east-1-974985730839/NB-custom-sklearn-2023-03-18-00-20-52-730/output/model.tar.gz\n"
     ]
    }
   ],
   "source": [
    "sm_boto3 = boto3.client(\"sagemaker\")\n",
    "\n",
    "sklearn_estimator.latest_training_job.wait(logs=\"None\")\n",
    "artifact = sm_boto3.describe_training_job(\n",
    "    TrainingJobName=sklearn_estimator.latest_training_job.name\n",
    ")[\"ModelArtifacts\"][\"S3ModelArtifacts\"]\n",
    "\n",
    "print(\"Model artifact persisted at \" + artifact)"
   ]
  },
  {
   "cell_type": "markdown",
   "id": "092e5d32",
   "metadata": {},
   "source": [
    "### Deploy Model\n",
    "\n",
    "`Estimator` dapat langsung di-deploy setelah pelatihan data dengan menggunakan `estimator.deploy()`, namun di sini kami menunjukkan proses yang lebih ekstensif dalam membuat model dari *artifact* s3, yang dapat digunakan untuk men-deploy model yang dilatih di *session* yang berbeda atau bahkan di luar SageMaker."
   ]
  },
  {
   "cell_type": "code",
   "execution_count": 17,
   "id": "df48dff0",
   "metadata": {},
   "outputs": [],
   "source": [
    "from sagemaker.sklearn.model import SKLearnModel\n",
    "from time import gmtime, strftime\n",
    "\n",
    "model_name = \"spam-sklearn-model-\" + strftime(\"%Y-%m-%d-%H-%M-%S\", gmtime())\n",
    "model = SKLearnModel(\n",
    "    name =  model_name,\n",
    "    model_data=artifact,\n",
    "    role=get_execution_role(),\n",
    "    entry_point=\"train.py\",\n",
    "    framework_version=FRAMEWORK_VERSION,\n",
    ")"
   ]
  },
  {
   "cell_type": "code",
   "execution_count": 20,
   "id": "6f835a87",
   "metadata": {},
   "outputs": [
    {
     "name": "stderr",
     "output_type": "stream",
     "text": [
      "INFO:sagemaker:Creating model with name: spam-sklearn-model-2023-03-18-00-26-31\n"
     ]
    },
    {
     "name": "stdout",
     "output_type": "stream",
     "text": [
      "EndpointName=spam-sklearn-model-2023-03-18-00-30-36\n"
     ]
    },
    {
     "name": "stderr",
     "output_type": "stream",
     "text": [
      "WARNING:sagemaker:Using already existing model: spam-sklearn-model-2023-03-18-00-26-31\n",
      "INFO:sagemaker:Creating endpoint-config with name spam-sklearn-model-2023-03-18-00-30-36\n",
      "INFO:sagemaker:Creating endpoint with name spam-sklearn-model-2023-03-18-00-30-36\n"
     ]
    },
    {
     "name": "stdout",
     "output_type": "stream",
     "text": [
      "-----!"
     ]
    }
   ],
   "source": [
    "\n",
    "endpoint_name = \"spam-sklearn-model-\" + strftime(\"%Y-%m-%d-%H-%M-%S\", gmtime())\n",
    "print(\"EndpointName={}\".format(endpoint_name))\n",
    "\n",
    "predictor = model.deploy(\n",
    "    initial_instance_count=1,\n",
    "    instance_type=\"ml.c5.large\",\n",
    "    endpoint_name=endpoint_name,\n",
    ")"
   ]
  },
  {
   "cell_type": "markdown",
   "id": "65dd8784",
   "metadata": {},
   "source": [
    "### Inference"
   ]
  },
  {
   "cell_type": "code",
   "execution_count": 21,
   "id": "0f30e2d5",
   "metadata": {},
   "outputs": [
    {
     "name": "stdout",
     "output_type": "stream",
     "text": [
      "['SMS Operator']\n"
     ]
    }
   ],
   "source": [
    "# menggunakan SDK Python\n",
    "\n",
    "sms_baru = \"Kuota gratis, hanya untukmu\"\n",
    "\n",
    "print(predictor.predict([sms_baru]))"
   ]
  },
  {
   "cell_type": "code",
   "execution_count": 24,
   "id": "965d11c9",
   "metadata": {},
   "outputs": [
    {
     "name": "stderr",
     "output_type": "stream",
     "text": [
      "WARNING:sagemaker.deprecations:The endpoint attribute has been renamed in sagemaker>=2.\n",
      "See: https://sagemaker.readthedocs.io/en/stable/v2.html for details.\n"
     ]
    },
    {
     "name": "stdout",
     "output_type": "stream",
     "text": [
      "SMS Operator\n"
     ]
    }
   ],
   "source": [
    "# menggunakan npy serialization\n",
    "\n",
    "from io import BytesIO\n",
    "import numpy as np\n",
    "\n",
    "runtime = boto3.client(\"sagemaker-runtime\")\n",
    "# Serialise numpy ndarray as bytes\n",
    "buffer = BytesIO()\n",
    "# Assuming testX is a data frame\n",
    "np.save(buffer, [sms_baru])\n",
    "\n",
    "response = runtime.invoke_endpoint(\n",
    "    EndpointName=predictor.endpoint, Body=buffer.getvalue(), ContentType=\"application/x-npy\"\n",
    ")\n",
    "\n",
    "print(eval(response[\"Body\"].read().decode())[0])"
   ]
  },
  {
   "cell_type": "markdown",
   "id": "e0c03dbc",
   "metadata": {},
   "source": [
    "### Hapus Endpoint\n",
    "\n",
    "Jangan lupa hapus endpoint setelah selesai bereksperimen"
   ]
  },
  {
   "cell_type": "code",
   "execution_count": 25,
   "id": "b8f680a2",
   "metadata": {},
   "outputs": [
    {
     "data": {
      "text/plain": [
       "{'ResponseMetadata': {'RequestId': '92cde9db-ab9d-4abc-9850-0e32eaf9b445',\n",
       "  'HTTPStatusCode': 200,\n",
       "  'HTTPHeaders': {'x-amzn-requestid': '92cde9db-ab9d-4abc-9850-0e32eaf9b445',\n",
       "   'content-type': 'application/x-amz-json-1.1',\n",
       "   'content-length': '0',\n",
       "   'date': 'Sat, 18 Mar 2023 00:35:58 GMT'},\n",
       "  'RetryAttempts': 0}}"
      ]
     },
     "execution_count": 25,
     "metadata": {},
     "output_type": "execute_result"
    }
   ],
   "source": [
    "\n",
    "sm_boto3.delete_endpoint(EndpointName=endpoint_name)"
   ]
  },
  {
   "cell_type": "code",
   "execution_count": null,
   "id": "927d5bdc",
   "metadata": {},
   "outputs": [],
   "source": []
  }
 ],
 "metadata": {
  "kernelspec": {
   "display_name": "conda_python3",
   "language": "python",
   "name": "conda_python3"
  },
  "language_info": {
   "codemirror_mode": {
    "name": "ipython",
    "version": 3
   },
   "file_extension": ".py",
   "mimetype": "text/x-python",
   "name": "python",
   "nbconvert_exporter": "python",
   "pygments_lexer": "ipython3",
   "version": "3.10.8"
  }
 },
 "nbformat": 4,
 "nbformat_minor": 5
}
